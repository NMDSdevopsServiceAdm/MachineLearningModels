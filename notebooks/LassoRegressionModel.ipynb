{
 "cells": [
  {
   "cell_type": "markdown",
   "id": "5bf2b086-657c-4972-9046-f7a170b6278a",
   "metadata": {},
   "source": [
    "# Care Homes"
   ]
  },
  {
   "cell_type": "code",
   "execution_count": 1,
   "id": "c890bfba-42e5-4260-8f02-3b4aaa097670",
   "metadata": {},
   "outputs": [
    {
     "name": "stderr",
     "output_type": "stream",
     "text": [
      "/home/ec2-user/anaconda3/envs/python3/lib/python3.10/site-packages/pandas/core/computation/expressions.py:21: UserWarning: Pandas requires version '2.8.4' or newer of 'numexpr' (version '2.7.3' currently installed).\n",
      "  from pandas.core.computation.check import NUMEXPR_INSTALLED\n"
     ]
    }
   ],
   "source": [
    "import polars as pl\n",
    "from sklearn.linear_model import LinearRegression\n",
    "from sklearn.metrics import r2_score\n",
    "import matplotlib.pyplot as plt\n",
    "import pickle\n",
    "import io\n",
    "import boto3\n",
    "import re\n",
    "import os\n",
    "from enum import Enum\n",
    "from sklearn.base import BaseEstimator"
   ]
  },
  {
   "cell_type": "code",
   "execution_count": 2,
   "id": "a398bff9-26ac-4533-899b-d2b22486ec1d",
   "metadata": {},
   "outputs": [],
   "source": [
    "import sys\n",
    "notebook_dir = os.getcwd()\n",
    "\n",
    "project_root = os.path.dirname(notebook_dir)\n",
    "\n",
    "sys.path.insert(0, project_root)\n",
    "\n",
    "from utilities.version import ModelVersionManager"
   ]
  },
  {
   "cell_type": "markdown",
   "id": "e99cae6d-d0c6-41fc-9c7a-83cb983eb906",
   "metadata": {},
   "source": [
    "## Key features "
   ]
  },
  {
   "cell_type": "code",
   "execution_count": 3,
   "id": "3c641b0c-2d04-4e22-90bf-54486eabe14c",
   "metadata": {},
   "outputs": [],
   "source": [
    "SERVICES_LOOKUP = {\n",
    "#     \"service_acute_with_beds\": \"Acute services with overnight beds\",\n",
    "#     \"service_acute_without_beds\": \"Acute services without overnight beds / listed acute services with or without overnight beds\",\n",
    "#     \"service_ambulance\": \"Ambulance service\",\n",
    "    \"service_care_home_with_nursing\": \"Care home service with nursing\",\n",
    "    \"service_care_home_without_nursing\": \"Care home service without nursing\",\n",
    "#     \"service_community_substance_misuse\": \"Community based services for people who misuse substances\",\n",
    "#     \"service_community_learning_disability\": \"Community based services for people with a learning disability\",\n",
    "#     \"service_community_mental_health\": \"Community based services for people with mental health needs\",\n",
    "#     \"service_community_health_nurse_agency\": \"Community health care services - Nurses Agency only\",\n",
    "#     \"service_community_health\": \"Community healthcare service\",\n",
    "#     \"service_dental\": \"Dental service\",\n",
    "#     \"service_diagnostic\": \"Diagnostic and/or screening service\",\n",
    "#     \"service_doctors_consultant\": \"Doctors consultation service\",\n",
    "#     \"service_doctors_treatment\": \"Doctors treatment service\",\n",
    "    \"service_domiciliary\": \"Domiciliary care service\",\n",
    "    \"service_extra_care_housing\": \"Extra Care housing services\",\n",
    "#     \"service_hospice_at_home\": \"Hospice services at home\",\n",
    "#     \"service_hospice\": \"Hospice services\",\n",
    "#     \"service_hospital\": \"Hospital services for people with mental health needs, learning disabilities and problems with substance misuse\",\n",
    "#     \"service_long_term\": \"Long term conditions services\",\n",
    "#     \"service_mobile_doctors\": \"Mobile doctors service\",\n",
    "#     \"service_prison_healthcare\": \"Prison Healthcare Services\",\n",
    "#     \"service_rehab\": \"Rehabilitation services\",\n",
    "#     \"service_remote_advice\": \"Remote clinical advice service\",\n",
    "#     \"service_residential_rehab\": \"Residential substance misuse treatment and/or rehabilitation service\",\n",
    "    \"service_shared_lives\": \"Shared Lives\",\n",
    "    \"service_specialist_college\": \"Specialist college service\",\n",
    "    \"service_supported_living\": \"Supported living service\",\n",
    "#     \"service_urgent_care\": \"Urgent care services\",\n",
    "}\n",
    "\n",
    "SPECIALISMS_LOOKUP = {\n",
    "    \"specialism_adults_over_65\": \"Caring for adults over 65 yrs\",\n",
    "    \"specialism_adults_under_65\": \"Caring for adults under 65 yrs\",\n",
    "    \"specialism_children\": \"Caring for children\",\n",
    "    \"specialism_dementia\": \"Dementia\",\n",
    "#     \"specialism_detained_under_mental_health_act\": \"Caring for people whose rights are restricted under the Mental Health Act\",\n",
    "#     \"specialism_eating_disorders\": \"Eating disorders\",\n",
    "    \"specialism_learning_disabilities\": \"Learning disabilities\",\n",
    "    \"specialism_mental_health\": \"Mental health conditions\",\n",
    "    \"specialism_physical_disabilities\": \"Physical disabilities\",\n",
    "#     \"specialism_sensory_impairment\": \"Sensory impairment\",\n",
    "#     \"specialism_substance_misuse\": \"Substance misuse problems\",\n",
    "    \"specialism_whole_population\": \"Services for everyone\",\n",
    "}   \n",
    "\n",
    "RURAL_URBAN_INDICATOR_LOOKUP = {\n",
    "    \"rui_rural_hamlet\": \"Rural hamlet and isolated dwellings\",\n",
    "    \"rui_rural_hamlet_sparse\": \"Rural hamlet and isolated dwellings in a sparse setting\",\n",
    "    \"rui_rural_town\": \"Rural town and fringe\",\n",
    "    \"rui_rural_town_sparse\": \"Rural town and fringe in a sparse setting\",\n",
    "    \"rui_rural_village\": \"Rural village\",\n",
    "    \"rui_rural_village_sparse\": \"Rural village in a sparse setting\",\n",
    "    \"rui_urban_city\": \"Urban city and town\",\n",
    "    \"rui_urban_city_sparse\": \"Urban city and town in a sparse setting\",\n",
    "    \"rui_urban_major\": \"Urban major conurbation\",\n",
    "    \"rui_urban_minor\": \"Urban minor conurbation\",\n",
    "    # \"rui_sparse\": \"Sparce setting\",\n",
    "}\n",
    "\n",
    "REGION_LOOKUP = {\n",
    "    \"region_east_midlands\": \"East Midlands\",\n",
    "    \"region_eastern\": \"Eastern\",\n",
    "    \"region_london\": \"London\",\n",
    "    \"region_north_east\": \"North East\",\n",
    "    \"region_north_west\": \"North West\",\n",
    "    \"region_south_east\": \"South East\",\n",
    "    \"region_south_west\": \"South West\",\n",
    "    \"region_west_midlands\": \"West Midlands\",\n",
    "    \"region_yorkshire_and_the_humber\": \"Yorkshire and the Humber\",\n",
    "}\n",
    "\n",
    "RELATED_LOCATION_LOOKUP = {\n",
    "    \"no_related_location\": \"N\",\n",
    "}"
   ]
  },
  {
   "cell_type": "markdown",
   "id": "b5ed9be3-94c4-4520-b3b1-ce8ccbf34a4b",
   "metadata": {},
   "source": [
    "## Define S3 bucket and Location of the Data"
   ]
  },
  {
   "cell_type": "code",
   "execution_count": 4,
   "id": "add448c0-bb0a-4bc7-ac49-4cd70efd05b4",
   "metadata": {},
   "outputs": [],
   "source": [
    "BUCKET = 'sfc-mt-sagemaker-demo'                                                                                    #used for demo purposes \n",
    "CAREHOMEDATA = 's3://sfc-main-datasets/domain=ind_cqc_filled_posts/dataset=ind_cqc_estimated_missing_ascwds_filled_posts/'"
   ]
  },
  {
   "cell_type": "markdown",
   "id": "5419b7f8-5f5f-4833-9262-a50b2491d517",
   "metadata": {},
   "source": [
    "## Read and Filter Dataset"
   ]
  },
  {
   "cell_type": "code",
   "execution_count": 5,
   "id": "f3a1ad44-61f7-42cb-9c1d-cad850e5eb3e",
   "metadata": {},
   "outputs": [],
   "source": [
    "df1 = pl.scan_parquet(CAREHOMEDATA)"
   ]
  },
  {
   "cell_type": "code",
   "execution_count": 6,
   "id": "bfc64e01-b347-4912-89b3-8bf212f6416f",
   "metadata": {},
   "outputs": [],
   "source": [
    "first_filtered_loc_data = df1.filter(\n",
    "    (pl.col(\"carehome\") == 'Y') \n",
    ")"
   ]
  },
  {
   "cell_type": "code",
   "execution_count": 7,
   "id": "c5c428e1-e1b8-4a3a-8fe1-75dcc19d9b85",
   "metadata": {},
   "outputs": [],
   "source": [
    "filtered_loc_data = df1.collect()"
   ]
  },
  {
   "cell_type": "code",
   "execution_count": null,
   "id": "07abeecc-c942-485b-9ac6-5dd97c698015",
   "metadata": {},
   "outputs": [],
   "source": [
    "#def calculate_care_home_status_count(df: DataFrame) -> DataFrame:\n",
    "#    w = Window.partitionBy(\"locationid\")\n",
    "\n",
    "#    df = df.withColumn(\n",
    "#        \"care_home_status_count\",\n",
    "#        F.size((F.collect_set(\"carehome\").over(w))),\n",
    "#    )\n",
    "#    return df"
   ]
  },
  {
   "cell_type": "code",
   "execution_count": 8,
   "id": "3808562f-2149-4c5a-b8df-16c6943d816b",
   "metadata": {},
   "outputs": [],
   "source": [
    "def calculate_care_home_status_count(df: pl.DataFrame) -> pl.DataFrame:\n",
    "    # Step 1: Get number of unique carehomes per locationId \n",
    "    counts = (\n",
    "        df.group_by(\"locationId\")\n",
    "        .agg(pl.col(\"careHome\").unique().len().alias(\"care_home_status_count\"))\n",
    "    )\n",
    "\n",
    "    # Step 2: Join back to original frame\n",
    "    return df.join(counts, on=\"locationId\")\n",
    "\n",
    "#once again the case insensitivity of pyspark \n",
    "#     made locationid = locationID, carehome = careHome"
   ]
  },
  {
   "cell_type": "code",
   "execution_count": 9,
   "id": "2d8350a6-40f4-483c-82e6-ec3254c1e1c4",
   "metadata": {},
   "outputs": [],
   "source": [
    "locations_df = calculate_care_home_status_count(filtered_loc_data)"
   ]
  },
  {
   "cell_type": "code",
   "execution_count": 10,
   "id": "3e375675-95a4-40b4-9294-a567b42a49fe",
   "metadata": {},
   "outputs": [],
   "source": [
    "fully_filtered_loc_data = locations_df.filter((pl.col(\"care_home_status_count\") == 1))"
   ]
  },
  {
   "cell_type": "markdown",
   "id": "e3b558d6-c456-4437-a404-6fa688d69dc5",
   "metadata": {},
   "source": [
    "### Create filled posts "
   ]
  },
  {
   "cell_type": "code",
   "execution_count": 13,
   "id": "2544e000-f6a2-4190-b472-abb63a72e2fa",
   "metadata": {},
   "outputs": [],
   "source": [
    "fully_filtered_loc_data = fully_filtered_loc_data.with_columns((pl.col(\"imputed_filled_posts_per_bed_ratio_model\") * pl.col(\"numberOfBeds\")).alias(\"imputed_filled_posts_model\"))\n",
    "#once again the case insensitivity of pyspark \n",
    "#     made numberofbeds = numberOfBeds"
   ]
  },
  {
   "cell_type": "markdown",
   "id": "03f138e3-3f79-4e40-8636-b825c852b4ff",
   "metadata": {},
   "source": [
    "### Service, Activity and  count"
   ]
  },
  {
   "cell_type": "code",
   "execution_count": null,
   "id": "013a3d82-5f36-4214-b847-37ce74d853ca",
   "metadata": {},
   "outputs": [],
   "source": []
  }
 ],
 "metadata": {
  "kernelspec": {
   "display_name": "conda_python3",
   "language": "python",
   "name": "conda_python3"
  },
  "language_info": {
   "codemirror_mode": {
    "name": "ipython",
    "version": 3
   },
   "file_extension": ".py",
   "mimetype": "text/x-python",
   "name": "python",
   "nbconvert_exporter": "python",
   "pygments_lexer": "ipython3",
   "version": "3.10.18"
  }
 },
 "nbformat": 4,
 "nbformat_minor": 5
}
