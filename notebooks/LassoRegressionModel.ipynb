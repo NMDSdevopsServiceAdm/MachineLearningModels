{
 "cells": [
  {
   "cell_type": "markdown",
   "id": "5bf2b086-657c-4972-9046-f7a170b6278a",
   "metadata": {},
   "source": [
    "# Care Homes"
   ]
  },
  {
   "cell_type": "code",
   "execution_count": 2,
   "id": "c890bfba-42e5-4260-8f02-3b4aaa097670",
   "metadata": {},
   "outputs": [
    {
     "name": "stderr",
     "output_type": "stream",
     "text": [
      "/home/ec2-user/anaconda3/envs/python3/lib/python3.10/site-packages/pandas/core/computation/expressions.py:21: UserWarning: Pandas requires version '2.8.4' or newer of 'numexpr' (version '2.7.3' currently installed).\n",
      "  from pandas.core.computation.check import NUMEXPR_INSTALLED\n"
     ]
    }
   ],
   "source": [
    "import polars as pl\n",
    "from sklearn.linear_model import LinearRegression\n",
    "from sklearn.metrics import r2_score\n",
    "import matplotlib.pyplot as plt\n",
    "import pickle\n",
    "import io\n",
    "import boto3\n",
    "import re\n",
    "import os\n",
    "from enum import Enum\n",
    "from sklearn.base import BaseEstimator"
   ]
  },
  {
   "cell_type": "code",
   "execution_count": 3,
   "id": "a398bff9-26ac-4533-899b-d2b22486ec1d",
   "metadata": {},
   "outputs": [],
   "source": [
    "import sys\n",
    "notebook_dir = os.getcwd()\n",
    "\n",
    "project_root = os.path.dirname(notebook_dir)\n",
    "\n",
    "sys.path.insert(0, project_root)\n",
    "\n",
    "from utilities.version import ModelVersionManager"
   ]
  },
  {
   "cell_type": "markdown",
   "id": "b5ed9be3-94c4-4520-b3b1-ce8ccbf34a4b",
   "metadata": {},
   "source": [
    "## Define S3 bucket and Location of the Data"
   ]
  },
  {
   "cell_type": "code",
   "execution_count": 6,
   "id": "add448c0-bb0a-4bc7-ac49-4cd70efd05b4",
   "metadata": {},
   "outputs": [],
   "source": [
    "BUCKET = 'sfc-mt-sagemaker-demo'                                                                                    #used for demo purposes \n",
    "CAREHOMEDATA = 's3://sfc-main-datasets/domain=ind_cqc_filled_posts/dataset=ind_cqc_estimated_missing_ascwds_filled_posts/'"
   ]
  },
  {
   "cell_type": "markdown",
   "id": "5419b7f8-5f5f-4833-9262-a50b2491d517",
   "metadata": {},
   "source": [
    "## Read and Filter Dataset"
   ]
  },
  {
   "cell_type": "code",
   "execution_count": 7,
   "id": "f3a1ad44-61f7-42cb-9c1d-cad850e5eb3e",
   "metadata": {},
   "outputs": [],
   "source": [
    "df1 = pl.scan_parquet(CAREHOMEDATA)"
   ]
  },
  {
   "cell_type": "code",
   "execution_count": 10,
   "id": "c5c428e1-e1b8-4a3a-8fe1-75dcc19d9b85",
   "metadata": {},
   "outputs": [],
   "source": [
    "locations_df = df1.collect()"
   ]
  },
  {
   "cell_type": "code",
   "execution_count": 17,
   "id": "17514b15-ce2c-49b6-9b84-acb0082e8a08",
   "metadata": {},
   "outputs": [],
   "source": [
    "def calculate_care_home_status_count(df):\n",
    "    w = df.partition_by(\"locationId\")\n",
    "\n",
    "    df = df.with_columns(\n",
    "        \"care_home_status_count\",\n",
    "        F.size((F.collect_set(\"carehome\").over(w))),\n",
    "    )\n",
    "    return df\n",
    "\n",
    "    .filter(pl.col(\"careHome\") == \"N\")"
   ]
  },
  {
   "cell_type": "code",
   "execution_count": 18,
   "id": "2d8350a6-40f4-483c-82e6-ec3254c1e1c4",
   "metadata": {},
   "outputs": [
    {
     "ename": "AttributeError",
     "evalue": "'DataFrame' object has no attribute 'withColumn'",
     "output_type": "error",
     "traceback": [
      "\u001b[0;31m---------------------------------------------------------------------------\u001b[0m",
      "\u001b[0;31mAttributeError\u001b[0m                            Traceback (most recent call last)",
      "Cell \u001b[0;32mIn[18], line 1\u001b[0m\n\u001b[0;32m----> 1\u001b[0m locations_df \u001b[38;5;241m=\u001b[39m \u001b[43mcalculate_care_home_status_count\u001b[49m\u001b[43m(\u001b[49m\u001b[43mlocations_df\u001b[49m\u001b[43m)\u001b[49m\n",
      "Cell \u001b[0;32mIn[17], line 4\u001b[0m, in \u001b[0;36mcalculate_care_home_status_count\u001b[0;34m(df)\u001b[0m\n\u001b[1;32m      1\u001b[0m \u001b[38;5;28;01mdef\u001b[39;00m\u001b[38;5;250m \u001b[39m\u001b[38;5;21mcalculate_care_home_status_count\u001b[39m(df):\n\u001b[1;32m      2\u001b[0m     w \u001b[38;5;241m=\u001b[39m df\u001b[38;5;241m.\u001b[39mpartition_by(\u001b[38;5;124m\"\u001b[39m\u001b[38;5;124mlocationId\u001b[39m\u001b[38;5;124m\"\u001b[39m)\n\u001b[0;32m----> 4\u001b[0m     df \u001b[38;5;241m=\u001b[39m \u001b[43mdf\u001b[49m\u001b[38;5;241;43m.\u001b[39;49m\u001b[43mwithColumn\u001b[49m(\n\u001b[1;32m      5\u001b[0m         \u001b[38;5;124m\"\u001b[39m\u001b[38;5;124mcare_home_status_count\u001b[39m\u001b[38;5;124m\"\u001b[39m,\n\u001b[1;32m      6\u001b[0m         F\u001b[38;5;241m.\u001b[39msize((F\u001b[38;5;241m.\u001b[39mcollect_set(\u001b[38;5;124m\"\u001b[39m\u001b[38;5;124mcarehome\u001b[39m\u001b[38;5;124m\"\u001b[39m)\u001b[38;5;241m.\u001b[39mover(w))),\n\u001b[1;32m      7\u001b[0m     )\n\u001b[1;32m      8\u001b[0m     \u001b[38;5;28;01mreturn\u001b[39;00m df\n",
      "\u001b[0;31mAttributeError\u001b[0m: 'DataFrame' object has no attribute 'withColumn'"
     ]
    }
   ],
   "source": [
    "locations_df = calculate_care_home_status_count(locations_df)"
   ]
  },
  {
   "cell_type": "code",
   "execution_count": null,
   "id": "bfc64e01-b347-4912-89b3-8bf212f6416f",
   "metadata": {},
   "outputs": [],
   "source": [
    "filtered_loc_data = locations_df.filter(\n",
    "    (F.col(\"carehome\") == 'Y') & (F.col(\"care_home_status_count\") == 1))"
   ]
  }
 ],
 "metadata": {
  "kernelspec": {
   "display_name": "conda_python3",
   "language": "python",
   "name": "conda_python3"
  },
  "language_info": {
   "codemirror_mode": {
    "name": "ipython",
    "version": 3
   },
   "file_extension": ".py",
   "mimetype": "text/x-python",
   "name": "python",
   "nbconvert_exporter": "python",
   "pygments_lexer": "ipython3",
   "version": "3.10.18"
  }
 },
 "nbformat": 4,
 "nbformat_minor": 5
}
