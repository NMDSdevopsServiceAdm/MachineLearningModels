{
 "cells": [
  {
   "cell_type": "markdown",
   "id": "97341366-b73a-443b-bf29-0ae9a3ec1541",
   "metadata": {},
   "source": [
    "# Non Res PIR linear regression model\n",
    "\n",
    "### Linear regression model to convert non res PIR people figures to Filled post estimates"
   ]
  },
  {
   "cell_type": "code",
   "execution_count": 1,
   "id": "2fb7f8d5-d6dc-40fc-b1ba-9a6bc3d595d9",
   "metadata": {},
   "outputs": [
    {
     "name": "stderr",
     "output_type": "stream",
     "text": [
      "/home/ec2-user/anaconda3/envs/python3/lib/python3.10/site-packages/pandas/core/computation/expressions.py:21: UserWarning: Pandas requires version '2.8.4' or newer of 'numexpr' (version '2.7.3' currently installed).\n",
      "  from pandas.core.computation.check import NUMEXPR_INSTALLED\n",
      "Matplotlib is building the font cache; this may take a moment.\n"
     ]
    }
   ],
   "source": [
    "import polars as pl\n",
    "from sklearn.linear_model import LinearRegression\n",
    "from sklearn.metrics import r2_score\n",
    "import matplotlib.pyplot as plt\n",
    "import pickle\n",
    "import io\n",
    "import boto3"
   ]
  },
  {
   "cell_type": "markdown",
   "id": "f79ed861-a8a3-4a37-851f-48e1f7605c29",
   "metadata": {},
   "source": [
    "### Read AWS Glue Schema"
   ]
  },
  {
   "cell_type": "code",
   "execution_count": 2,
   "id": "28746bb8-0012-4b75-a5a8-76eceb9dfaab",
   "metadata": {},
   "outputs": [],
   "source": [
    "glue = boto3.client('glue') \n",
    "\n",
    "response = glue.get_table(\n",
    "        DatabaseName= \"main-data-engineering-database\",\n",
    "        Name= \"dataset_ind_cqc_estimated_missing_ascwds_filled_posts\"\n",
    ")"
   ]
  },
  {
   "cell_type": "code",
   "execution_count": 10,
   "id": "2f80419f-9ed9-4658-819f-1b23fff389d9",
   "metadata": {},
   "outputs": [
    {
     "data": {
      "text/plain": [
       "{'Table': {'Name': 'dataset_ind_cqc_estimated_missing_ascwds_filled_posts',\n",
       "  'DatabaseName': 'main-data-engineering-database',\n",
       "  'Owner': 'owner',\n",
       "  'CreateTime': datetime.datetime(2025, 8, 7, 8, 6, 28, tzinfo=tzlocal()),\n",
       "  'UpdateTime': datetime.datetime(2025, 8, 7, 8, 6, 29, tzinfo=tzlocal()),\n",
       "  'LastAccessTime': datetime.datetime(2025, 8, 7, 8, 6, 29, tzinfo=tzlocal()),\n",
       "  'Retention': 0,\n",
       "  'StorageDescriptor': {'Columns': [{'Name': 'locationid', 'Type': 'string'},\n",
       "    {'Name': 'cqc_location_import_date', 'Type': 'date'},\n",
       "    {'Name': 'primary_service_type', 'Type': 'string'},\n",
       "    {'Name': 'unix_time', 'Type': 'bigint'},\n",
       "    {'Name': 'ascwds_workplace_import_date', 'Type': 'date'},\n",
       "    {'Name': 'cqc_pir_import_date', 'Type': 'date'},\n",
       "    {'Name': 'carehome', 'Type': 'string'},\n",
       "    {'Name': 'name', 'Type': 'string'},\n",
       "    {'Name': 'postalcode', 'Type': 'string'},\n",
       "    {'Name': 'providerid', 'Type': 'string'},\n",
       "    {'Name': 'provider_name', 'Type': 'string'},\n",
       "    {'Name': 'cqc_sector', 'Type': 'string'},\n",
       "    {'Name': 'registrationstatus', 'Type': 'string'},\n",
       "    {'Name': 'imputed_registration_date', 'Type': 'date'},\n",
       "    {'Name': 'dormancy', 'Type': 'string'},\n",
       "    {'Name': 'numberofbeds', 'Type': 'int'},\n",
       "    {'Name': 'imputed_regulatedactivities',\n",
       "     'Type': 'array<struct<name:string,code:string,contacts:array<struct<personFamilyName:string,personGivenName:string,personRoles:array<string>,personTitle:string,col3:array<string>>>>>'},\n",
       "    {'Name': 'imputed_gacservicetypes',\n",
       "     'Type': 'array<struct<name:string,description:string>>'},\n",
       "    {'Name': 'services_offered', 'Type': 'array<string>'},\n",
       "    {'Name': 'imputed_specialisms', 'Type': 'array<struct<name:string>>'},\n",
       "    {'Name': 'specialisms_offered', 'Type': 'array<string>'},\n",
       "    {'Name': 'related_location', 'Type': 'string'},\n",
       "    {'Name': 'registered_manager_names', 'Type': 'array<string>'},\n",
       "    {'Name': 'contemporary_ons_import_date', 'Type': 'date'},\n",
       "    {'Name': 'contemporary_cssr', 'Type': 'string'},\n",
       "    {'Name': 'contemporary_icb', 'Type': 'string'},\n",
       "    {'Name': 'contemporary_region', 'Type': 'string'},\n",
       "    {'Name': 'current_ons_import_date', 'Type': 'date'},\n",
       "    {'Name': 'current_cssr', 'Type': 'string'},\n",
       "    {'Name': 'current_icb', 'Type': 'string'},\n",
       "    {'Name': 'current_region', 'Type': 'string'},\n",
       "    {'Name': 'current_ru11ind', 'Type': 'string'},\n",
       "    {'Name': 'pir_people_directly_employed', 'Type': 'int'},\n",
       "    {'Name': 'establishmentid', 'Type': 'string'},\n",
       "    {'Name': 'orgid', 'Type': 'string'},\n",
       "    {'Name': 'totalstaff_bounded', 'Type': 'int'},\n",
       "    {'Name': 'wkrrecs_bounded', 'Type': 'int'},\n",
       "    {'Name': 'ascwds_filled_posts', 'Type': 'double'},\n",
       "    {'Name': 'ascwds_filled_posts_source', 'Type': 'string'},\n",
       "    {'Name': 'ascwds_filled_posts_deduplicated', 'Type': 'double'},\n",
       "    {'Name': 'filled_posts_per_bed_ratio', 'Type': 'double'},\n",
       "    {'Name': 'ascwds_filled_posts_deduplicated_clean', 'Type': 'double'},\n",
       "    {'Name': 'ascwds_filtering_rule', 'Type': 'string'},\n",
       "    {'Name': 'pir_people_directly_employed_deduplicated', 'Type': 'int'},\n",
       "    {'Name': 'rolling_average_model', 'Type': 'double'},\n",
       "    {'Name': 'rolling_rate_of_change_model', 'Type': 'double'},\n",
       "    {'Name': 'ascwds_pir_merged', 'Type': 'double'},\n",
       "    {'Name': 'imputed_filled_post_model', 'Type': 'double'},\n",
       "    {'Name': 'imputed_filled_posts_per_bed_ratio_model', 'Type': 'double'},\n",
       "    {'Name': 'imputed_non_res_pir_people_directly_employed',\n",
       "     'Type': 'double'}],\n",
       "   'Location': 's3://sfc-main-datasets/domain=ind_cqc_filled_posts/dataset=ind_cqc_estimated_missing_ascwds_filled_posts/',\n",
       "   'InputFormat': 'org.apache.hadoop.hive.ql.io.parquet.MapredParquetInputFormat',\n",
       "   'OutputFormat': 'org.apache.hadoop.hive.ql.io.parquet.MapredParquetOutputFormat',\n",
       "   'Compressed': False,\n",
       "   'NumberOfBuckets': -1,\n",
       "   'SerdeInfo': {'SerializationLibrary': 'org.apache.hadoop.hive.ql.io.parquet.serde.ParquetHiveSerDe',\n",
       "    'Parameters': {'serialization.format': '1'}},\n",
       "   'BucketColumns': [],\n",
       "   'SortColumns': [],\n",
       "   'Parameters': {'sizeKey': '535324293',\n",
       "    'objectCount': '3480',\n",
       "    'UPDATED_BY_CRAWLER': 'main-data_engineering_ind_cqc_filled_posts',\n",
       "    'recordCount': '3668992',\n",
       "    'CrawlerSchemaSerializerVersion': '1.0',\n",
       "    'averageRecordSize': '177',\n",
       "    'exclusions': '[\"s3://sfc-main-datasets/domain=ind_cqc_filled_posts/*.json\"]',\n",
       "    'partition_filtering.enabled': 'true',\n",
       "    'compressionType': 'none',\n",
       "    'CrawlerSchemaDeserializerVersion': '1.0',\n",
       "    'classification': 'parquet',\n",
       "    'CRAWL_RUN_ID': '5bd9172e-dbf5-4354-81d1-79a0be521509',\n",
       "    'typeOfData': 'file'},\n",
       "   'StoredAsSubDirectories': False},\n",
       "  'PartitionKeys': [{'Name': 'year', 'Type': 'string'},\n",
       "   {'Name': 'month', 'Type': 'string'},\n",
       "   {'Name': 'day', 'Type': 'string'},\n",
       "   {'Name': 'import_date', 'Type': 'string'}],\n",
       "  'TableType': 'EXTERNAL_TABLE',\n",
       "  'Parameters': {'sizeKey': '535324293',\n",
       "   'objectCount': '3480',\n",
       "   'UPDATED_BY_CRAWLER': 'main-data_engineering_ind_cqc_filled_posts',\n",
       "   'recordCount': '3668992',\n",
       "   'CrawlerSchemaSerializerVersion': '1.0',\n",
       "   'averageRecordSize': '177',\n",
       "   'exclusions': '[\"s3://sfc-main-datasets/domain=ind_cqc_filled_posts/*.json\"]',\n",
       "   'partition_filtering.enabled': 'true',\n",
       "   'compressionType': 'none',\n",
       "   'CrawlerSchemaDeserializerVersion': '1.0',\n",
       "   'classification': 'parquet',\n",
       "   'CRAWL_RUN_ID': '5bd9172e-dbf5-4354-81d1-79a0be521509',\n",
       "   'typeOfData': 'file'},\n",
       "  'CreatedBy': 'arn:aws:sts::344210435447:assumed-role/main-glue_service_iam_role/AWS-Crawler',\n",
       "  'IsRegisteredWithLakeFormation': False,\n",
       "  'CatalogId': '344210435447',\n",
       "  'VersionId': '1',\n",
       "  'IsMultiDialectView': False},\n",
       " 'ResponseMetadata': {'RequestId': 'b134f009-8749-4c23-a371-64d7b11d5112',\n",
       "  'HTTPStatusCode': 200,\n",
       "  'HTTPHeaders': {'date': 'Wed, 13 Aug 2025 08:53:23 GMT',\n",
       "   'content-type': 'application/x-amz-json-1.1',\n",
       "   'content-length': '4889',\n",
       "   'connection': 'keep-alive',\n",
       "   'x-amzn-requestid': 'b134f009-8749-4c23-a371-64d7b11d5112',\n",
       "   'cache-control': 'no-cache'},\n",
       "  'RetryAttempts': 0}}"
      ]
     },
     "execution_count": 10,
     "metadata": {},
     "output_type": "execute_result"
    }
   ],
   "source": [
    "response"
   ]
  },
  {
   "cell_type": "markdown",
   "id": "92e7848c-05c6-4da7-8333-36cf8a7aa8b6",
   "metadata": {},
   "source": [
    "### Read data from S3 (use schema when sorted) "
   ]
  },
  {
   "cell_type": "code",
   "execution_count": 15,
   "id": "0bb589f2-7423-4449-a263-366c96286de8",
   "metadata": {},
   "outputs": [],
   "source": [
    "df1 = pl.scan_parquet(\"s3://sfc-main-datasets/domain=ind_cqc_filled_posts/dataset=ind_cqc_estimated_missing_ascwds_filled_posts/\")"
   ]
  },
  {
   "cell_type": "code",
   "execution_count": 22,
   "id": "b2d5e211-1dc4-4ffb-bab9-fc3931a584b9",
   "metadata": {},
   "outputs": [],
   "source": [
    "df1_selected = df1.select(\"locationId\", \"cqc_location_import_date\", \"careHome\", \"ascwds_filled_posts_deduplicated_clean\" ,\"pir_people_directly_employed_deduplicated\")\n",
    "df1_filtered = df1_selected.filter(pl.col(\"careHome\") == \"N\")\n",
    "df1_filtered2 = df1_filtered.filter(\n",
    "    (pl.col(\"ascwds_filled_posts_deduplicated_clean\").is_not_null()) \n",
    "    & (pl.col(\"ascwds_filled_posts_deduplicated_clean\") > 0) \n",
    "    & (pl.col(\"pir_people_directly_employed_deduplicated\").is_not_null())\n",
    "    & (pl.col(\"pir_people_directly_employed_deduplicated\") > 0)\n",
    ")\n",
    "df1_filtered3 = df1_filtered2.with_columns(\n",
    "    (pl.col(\"ascwds_filled_posts_deduplicated_clean\") - pl.col(\"pir_people_directly_employed_deduplicated\")).abs().alias(\"abs_resid\"))"
   ]
  },
  {
   "cell_type": "code",
   "execution_count": 29,
   "id": "d137c54b-a05a-489e-9f86-e8570b6555dd",
   "metadata": {},
   "outputs": [
    {
     "data": {
      "text/plain": [
       "(28842, 54)"
      ]
     },
     "execution_count": 29,
     "metadata": {},
     "output_type": "execute_result"
    }
   ],
   "source": [
    "# Test a date for 28,000 rows \n",
    "dftest = df1.filter(pl.col(\"import_date\") == 20250301)\n",
    "dftest.collect().shape "
   ]
  },
  {
   "cell_type": "markdown",
   "id": "85ab3350-1d52-4f55-943b-64f14d44a613",
   "metadata": {},
   "source": [
    "Testing Dataset to match "
   ]
  },
  {
   "cell_type": "code",
   "execution_count": 30,
   "id": "b864a0e1-db54-4887-a3dd-e9d05f7ced1b",
   "metadata": {},
   "outputs": [
    {
     "data": {
      "text/plain": [
       "(2768, 5)"
      ]
     },
     "execution_count": 30,
     "metadata": {},
     "output_type": "execute_result"
    }
   ],
   "source": [
    "df1_filtered2.collect().shape"
   ]
  },
  {
   "cell_type": "code",
   "execution_count": 39,
   "id": "2559ad2d-9c29-4c3d-b69a-2e1d4f0e0783",
   "metadata": {},
   "outputs": [
    {
     "data": {
      "text/html": [
       "<div><style>\n",
       ".dataframe > thead > tr,\n",
       ".dataframe > tbody > tr {\n",
       "  text-align: right;\n",
       "  white-space: pre-wrap;\n",
       "}\n",
       "</style>\n",
       "<small>shape: (10, 6)</small><table border=\"1\" class=\"dataframe\"><thead><tr><th>locationId</th><th>cqc_location_import_date</th><th>careHome</th><th>ascwds_filled_posts_deduplicated_clean</th><th>pir_people_directly_employed_deduplicated</th><th>abs_resid</th></tr><tr><td>str</td><td>date</td><td>str</td><td>f64</td><td>i32</td><td>f64</td></tr></thead><tbody><tr><td>&quot;1-133394328&quot;</td><td>2023-04-01</td><td>&quot;N&quot;</td><td>548.0</td><td>82</td><td>466.0</td></tr><tr><td>&quot;1-8607670975&quot;</td><td>2023-10-01</td><td>&quot;N&quot;</td><td>567.0</td><td>135</td><td>432.0</td></tr><tr><td>&quot;1-4776578785&quot;</td><td>2023-08-01</td><td>&quot;N&quot;</td><td>998.0</td><td>612</td><td>386.0</td></tr><tr><td>&quot;1-3679714454&quot;</td><td>2025-01-01</td><td>&quot;N&quot;</td><td>973.0</td><td>615</td><td>358.0</td></tr><tr><td>&quot;1-12291638633&quot;</td><td>2023-01-01</td><td>&quot;N&quot;</td><td>374.0</td><td>23</td><td>351.0</td></tr><tr><td>&quot;1-6957740561&quot;</td><td>2022-07-01</td><td>&quot;N&quot;</td><td>460.0</td><td>125</td><td>335.0</td></tr><tr><td>&quot;1-1678280100&quot;</td><td>2024-12-01</td><td>&quot;N&quot;</td><td>730.0</td><td>422</td><td>308.0</td></tr><tr><td>&quot;1-2470563606&quot;</td><td>2025-01-01</td><td>&quot;N&quot;</td><td>46.0</td><td>314</td><td>268.0</td></tr><tr><td>&quot;1-2013534526&quot;</td><td>2024-10-08</td><td>&quot;N&quot;</td><td>330.0</td><td>99</td><td>231.0</td></tr><tr><td>&quot;1-6957740561&quot;</td><td>2024-03-01</td><td>&quot;N&quot;</td><td>340.5</td><td>113</td><td>227.5</td></tr></tbody></table></div>"
      ],
      "text/plain": [
       "shape: (10, 6)\n",
       "┌───────────────┬───────────────────┬──────────┬───────────────────┬───────────────────┬───────────┐\n",
       "│ locationId    ┆ cqc_location_impo ┆ careHome ┆ ascwds_filled_pos ┆ pir_people_direct ┆ abs_resid │\n",
       "│ ---           ┆ rt_date           ┆ ---      ┆ ts_deduplicat…    ┆ ly_employed_d…    ┆ ---       │\n",
       "│ str           ┆ ---               ┆ str      ┆ ---               ┆ ---               ┆ f64       │\n",
       "│               ┆ date              ┆          ┆ f64               ┆ i32               ┆           │\n",
       "╞═══════════════╪═══════════════════╪══════════╪═══════════════════╪═══════════════════╪═══════════╡\n",
       "│ 1-133394328   ┆ 2023-04-01        ┆ N        ┆ 548.0             ┆ 82                ┆ 466.0     │\n",
       "│ 1-8607670975  ┆ 2023-10-01        ┆ N        ┆ 567.0             ┆ 135               ┆ 432.0     │\n",
       "│ 1-4776578785  ┆ 2023-08-01        ┆ N        ┆ 998.0             ┆ 612               ┆ 386.0     │\n",
       "│ 1-3679714454  ┆ 2025-01-01        ┆ N        ┆ 973.0             ┆ 615               ┆ 358.0     │\n",
       "│ 1-12291638633 ┆ 2023-01-01        ┆ N        ┆ 374.0             ┆ 23                ┆ 351.0     │\n",
       "│ 1-6957740561  ┆ 2022-07-01        ┆ N        ┆ 460.0             ┆ 125               ┆ 335.0     │\n",
       "│ 1-1678280100  ┆ 2024-12-01        ┆ N        ┆ 730.0             ┆ 422               ┆ 308.0     │\n",
       "│ 1-2470563606  ┆ 2025-01-01        ┆ N        ┆ 46.0              ┆ 314               ┆ 268.0     │\n",
       "│ 1-2013534526  ┆ 2024-10-08        ┆ N        ┆ 330.0             ┆ 99                ┆ 231.0     │\n",
       "│ 1-6957740561  ┆ 2024-03-01        ┆ N        ┆ 340.5             ┆ 113               ┆ 227.5     │\n",
       "└───────────────┴───────────────────┴──────────┴───────────────────┴───────────────────┴───────────┘"
      ]
     },
     "execution_count": 39,
     "metadata": {},
     "output_type": "execute_result"
    }
   ],
   "source": [
    "df1_filtered3.sort(pl.col(\"abs_resid\"), descending=True).collect().head(10)"
   ]
  },
  {
   "cell_type": "markdown",
   "id": "5f8e3dde-da67-4ed0-95f3-faaddb49aa3b",
   "metadata": {},
   "source": [
    "Create filtered and excluded datasets"
   ]
  },
  {
   "cell_type": "code",
   "execution_count": 35,
   "id": "44181804-9c42-45a2-9b79-3dd00b3dbe8b",
   "metadata": {},
   "outputs": [],
   "source": [
    "filtered_df = df1_filtered3.filter(pl.col(\"abs_resid\") <= 500).drop(\"abs_resid\")\n",
    "excluded_df = df1_filtered3.filter(pl.col(\"abs_resid\") > 500).drop(\"abs_resid\")"
   ]
  },
  {
   "cell_type": "code",
   "execution_count": null,
   "id": "0de91950-4d53-460b-95df-92afbd01377b",
   "metadata": {},
   "outputs": [],
   "source": []
  }
 ],
 "metadata": {
  "kernelspec": {
   "display_name": "conda_python3",
   "language": "python",
   "name": "conda_python3"
  },
  "language_info": {
   "codemirror_mode": {
    "name": "ipython",
    "version": 3
   },
   "file_extension": ".py",
   "mimetype": "text/x-python",
   "name": "python",
   "nbconvert_exporter": "python",
   "pygments_lexer": "ipython3",
   "version": "3.10.18"
  }
 },
 "nbformat": 4,
 "nbformat_minor": 5
}
